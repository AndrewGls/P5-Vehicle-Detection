{
 "cells": [
  {
   "cell_type": "markdown",
   "metadata": {},
   "source": [
    "Vehicle Detection Using HOG+SVM Classifier\n",
    "===\n"
   ]
  },
  {
   "cell_type": "code",
   "execution_count": 1,
   "metadata": {
    "collapsed": false
   },
   "outputs": [],
   "source": [
    "import matplotlib.image as mpimg\n",
    "import matplotlib.pyplot as plt\n",
    "import numpy as np\n",
    "#import cv2\n",
    "import glob\n",
    "import time\n",
    "#import pickle\n",
    "from find_cars import *\n",
    "from lesson_functions import draw_boxes\n",
    "\n",
    "import imageio\n",
    "#imageio.plugins.ffmpeg.download()\n",
    "# Import everything needed to edit/save/watch video clips\n",
    "from moviepy.editor import VideoFileClip\n",
    "from IPython.display import HTML"
   ]
  },
  {
   "cell_type": "code",
   "execution_count": 5,
   "metadata": {
    "collapsed": false
   },
   "outputs": [
    {
     "data": {
      "text/plain": [
       "{'X_scaler': StandardScaler(copy=True, with_mean=True, with_std=True),\n",
       " 'cell_per_block': 2,\n",
       " 'color_space': 'YCrCb',\n",
       " 'hist_bins': 32,\n",
       " 'hist_feat': True,\n",
       " 'hog_channel': 'ALL',\n",
       " 'hog_feat': True,\n",
       " 'orient': 9,\n",
       " 'pix_per_cell': 8,\n",
       " 'spatial_feat': True,\n",
       " 'spatial_size': (32, 32),\n",
       " 'svc': LinearSVC(C=1.0, class_weight=None, dual=True, fit_intercept=True,\n",
       "      intercept_scaling=1, loss='squared_hinge', max_iter=1000,\n",
       "      multi_class='ovr', penalty='l2', random_state=None, tol=0.0001,\n",
       "      verbose=0)}"
      ]
     },
     "execution_count": 5,
     "metadata": {},
     "output_type": "execute_result"
    }
   ],
   "source": [
    "frame_Ind = 0;\n",
    "pickle_file = \"HOGClassifier.p\"\n",
    "#pickle_file = \"HOGClassifierHLS.p\"\n",
    "load_classifier(pickle_file)"
   ]
  },
  {
   "cell_type": "code",
   "execution_count": 6,
   "metadata": {
    "collapsed": false
   },
   "outputs": [],
   "source": [
    "avgBoxes = BoundingBoxes(10)\n",
    "\n",
    "def process_image(image):\n",
    "    global frame_Ind\n",
    "    global avgBoxes\n",
    "    \n",
    "    frame_Ind += 1\n",
    "        \n",
    "    draw_image = np.copy(image)\n",
    "    \n",
    "    bboxes = detect_vehicles(image, frame_Ind, thresh=4, avgBoxes=avgBoxes)\n",
    "    result = draw_boxes(draw_image, bboxes)\n",
    "    \n",
    "    return result"
   ]
  },
  {
   "cell_type": "code",
   "execution_count": 7,
   "metadata": {
    "collapsed": false
   },
   "outputs": [
    {
     "name": "stdout",
     "output_type": "stream",
     "text": [
      "[MoviePy] >>>> Building video ./processed_project_video.mp4\n",
      "[MoviePy] Writing video ./processed_project_video.mp4\n"
     ]
    },
    {
     "name": "stderr",
     "output_type": "stream",
     "text": [
      "100%|█████████████████████████████████████████████████████████████████████████████▉| 1260/1261 [05:55<00:00,  3.60it/s]\n"
     ]
    },
    {
     "name": "stdout",
     "output_type": "stream",
     "text": [
      "[MoviePy] Done.\n",
      "[MoviePy] >>>> Video ready: ./processed_project_video.mp4 \n",
      "\n",
      "Wall time: 5min 55s\n"
     ]
    }
   ],
   "source": [
    "out_dir='./'\n",
    "output = out_dir + 'processed_project_video.mp4'\n",
    "clip = VideoFileClip(\"project_video.mp4\")\n",
    "out_clip = clip.fl_image(process_image) \n",
    "%time out_clip.write_videofile(output, audio=False)"
   ]
  },
  {
   "cell_type": "markdown",
   "metadata": {},
   "source": [
    "### Draw Grid detection on Video"
   ]
  },
  {
   "cell_type": "code",
   "execution_count": 4,
   "metadata": {
    "collapsed": true
   },
   "outputs": [],
   "source": [
    "frame_Ind = 0;\n",
    "\n",
    "def process_image_grid(img):\n",
    "    global frame_Ind\n",
    "    frame_Ind += 1\n",
    "    \n",
    "    ystart = 400\n",
    "    ystop = 656\n",
    "    scale = 1\n",
    "\n",
    "#    bboxes = find_cars_grid_64(img)\n",
    "#    result = draw_boxes(image, bboxes)\n",
    "    \n",
    "    bboxes = find_cars_grid_160(img)\n",
    "    img = draw_boxes(img, bboxes, color=(0, 255, 255), thick=10)\n",
    "    \n",
    "    bboxes = find_cars_grid_128(img)\n",
    "    img = draw_boxes(img, bboxes, color=(0, 0, 255), thick=8)\n",
    "\n",
    "    bboxes = find_cars_grid_96(img)\n",
    "    img = draw_boxes(img, bboxes, color=(0, 255, 0), thick=4)\n",
    "\n",
    "    bboxes = find_cars_grid_64(img)\n",
    "    result = draw_boxes(img, bboxes, color=(255, 0, 0), thick=2)\n",
    "    \n",
    "    \n",
    "    return result"
   ]
  },
  {
   "cell_type": "code",
   "execution_count": 5,
   "metadata": {
    "collapsed": false
   },
   "outputs": [
    {
     "name": "stdout",
     "output_type": "stream",
     "text": [
      "[MoviePy] >>>> Building video ./grid_project_video.mp4\n",
      "[MoviePy] Writing video ./grid_project_video.mp4\n"
     ]
    },
    {
     "name": "stderr",
     "output_type": "stream",
     "text": [
      "100%|█████████████████████████████████████████████████████████████████████████████▉| 1260/1261 [00:21<00:00, 59.34it/s]\n"
     ]
    },
    {
     "name": "stdout",
     "output_type": "stream",
     "text": [
      "[MoviePy] Done.\n",
      "[MoviePy] >>>> Video ready: ./grid_project_video.mp4 \n",
      "\n",
      "Wall time: 21.7 s\n"
     ]
    }
   ],
   "source": [
    "out_dir='./'\n",
    "output = out_dir + 'grid_project_video.mp4'\n",
    "clip = VideoFileClip(\"project_video.mp4\")\n",
    "out_clip = clip.fl_image(process_image_grid) \n",
    "%time out_clip.write_videofile(output, audio=False)"
   ]
  },
  {
   "cell_type": "markdown",
   "metadata": {
    "collapsed": true
   },
   "source": [
    "### Extraction frames from video"
   ]
  },
  {
   "cell_type": "code",
   "execution_count": null,
   "metadata": {
    "collapsed": true
   },
   "outputs": [],
   "source": [
    "import matplotlib.pyplot as plt\n",
    "\n",
    "out_dir='./temp_data/frames/project_video/'\n",
    "frame_n = 0\n",
    "\n",
    "def extract_all_frames(img):\n",
    "    global out_dir\n",
    "    global frame_n\n",
    "    frame_n += 1\n",
    "    file_path = out_dir + str(frame_n) + '.png'\n",
    "    #print(file_path)\n",
    "    plt.imsave(file_path, img)\n",
    "    return img"
   ]
  },
  {
   "cell_type": "code",
   "execution_count": null,
   "metadata": {
    "collapsed": false
   },
   "outputs": [],
   "source": [
    "output = './temp_data/' + 'tmp_video.mp4'\n",
    "clip = VideoFileClip(\"project_video.mp4\")\n",
    "out_clip = clip.fl_image(extract_all_frames) \n",
    "%time out_clip.write_videofile(output, audio=False)"
   ]
  },
  {
   "cell_type": "code",
   "execution_count": null,
   "metadata": {
    "collapsed": true
   },
   "outputs": [],
   "source": []
  }
 ],
 "metadata": {
  "anaconda-cloud": {},
  "kernelspec": {
   "display_name": "Python 3",
   "language": "python",
   "name": "python3"
  },
  "language_info": {
   "codemirror_mode": {
    "name": "ipython",
    "version": 3
   },
   "file_extension": ".py",
   "mimetype": "text/x-python",
   "name": "python",
   "nbconvert_exporter": "python",
   "pygments_lexer": "ipython3",
   "version": "3.5.2"
  },
  "widgets": {
   "state": {},
   "version": "1.1.2"
  }
 },
 "nbformat": 4,
 "nbformat_minor": 1
}
