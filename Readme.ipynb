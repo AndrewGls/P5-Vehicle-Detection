{
 "cells": [
  {
   "cell_type": "markdown",
   "metadata": {},
   "source": [
    "# Vehicle Detection Project\n",
    "\n",
    "## Introduction\n",
    "\n",
    "The goal of the project was to write software pipeline to identify vehicles in a video from a front-facing camera on a car. To detect vehicles, at first, we had to use an approach which was very popular in computer vision 10+ years ago and includes two common steps: feature extraction and prediction based on trained Linear SVM classifier.\n",
    "\n",
    "The goals steps of this project are the following:\n",
    "* a Histogram of Oriented Gradients (HOG) feature extraction on a labeled training set of images and train a Linear SVM classifier. \n",
    "* a color transform and binned color features, as well as histograms of color, to combine the HOG feature vector with other coomon computer vision approaches.\n",
    "* a sliding-window technique combined with trained SVM classifier to search for vehicles in images.\n",
    "* creating a heatmap of recurring detections in subsequent frames of a video stream to reject outliers and follow detected vehicles.\n",
    "* estimation of bounding box for vehicles detected.\n",
    "\n",
    "The developed pipeline was used to draw bounding boxes around detected vehicels in the video.\n",
    "\n",
    "[//]: # (Image References)\n",
    "[image1]: ./images/cars_not_cars1.png\n",
    "[image2]: ./images/hog_features_YCrCb.png\n",
    "\n",
    "[image3]: ./images/false_positives.png\n",
    "[image4]: ./images/sliding_windows.png\n",
    "[image5]: ./images/detection_example.png\n",
    "[image6]: ./images/heatmap.png\n",
    "[image7]: ./images/labels.png\n",
    "[image8]: ./images/bounding_boxes.png\n",
    "[video1]: ./output_images/processed_project_video.mp4\n",
    "\n",
    "\n",
    "# Getting Started\n",
    "* Clone the project and create directories `vehicles` and `non-vehicles`. \n",
    "* Download images from the links given below (see Data Exploration) and put them into subfolders below `vehicles` and `non-vehicles`. \n",
    "* use `explore_data.ipynb` to look at the samples in data set, used for training Linear SVM classifier.\n",
    "* `train_hog_classifier.py` or `train_hog_classifier.ipynb` trains the Liniear SVM classifier to detect cars and non-cars. The classifier data is saved in a pickle file, `HOGClassifier.p` by default.\n",
    "* `video_vehicle_detection.py` or `video_vehicle_detection.ipynb` implements a sliding-window technique to search for vehicles with including false positive filtering in the video.\n",
    "\n",
    "## Please see the [rubric](https://review.udacity.com/#!/rubrics/513/view) points\n",
    "\n",
    "---\n",
    "# Data Exploration\n",
    "\n",
    "The labeled vehicle and non-vehicle images with the size 64x64 pixels were taken from the [GTI](http://www.gti.ssr.upm.es/data/Vehicle_database.html) vehicle image database, the [KITTI](http://www.cvlibs.net/datasets/kitti/) vision benchmark suite, and examples extracted from the project video itself. A third [data set](https://github.com/udacity/self-driving-car/tree/master/annotations) from Udacity was not used here.\n",
    "\n",
    "The total combination of data sets contains 8792 vehicle images and 8968 non-vehicle images. The data set is slightly 2% unbalanced - more non vehicle images than vehicle images. The images of [GTI](http://www.gti.ssr.upm.es/data/Vehicle_database.html) data set are taken from video sequences. The [KITTI](http://www.cvlibs.net/datasets/kitti/) data set contains the same vehicle appear more than once, but typically under significantly different lighting/angle from other instances. Here is an example of the vehicle and non-vehicle classes:\n",
    "\n",
    "![car not-car sample][image1]\n",
    "\n",
    "\n",
    "\n",
    "# Histogram of Oriented Gradients (HOG)\n",
    "\n",
    "##  HOG feature extraction, color and spatial features.\n",
    "\n",
    "The collected data set was randomized train-test splited on 80% training set and 20% test set. The GTI data set contains time-series data, extracted from video, with sequences of images where the vehicles target objects appear almost identical in a whole series of images. While it is possible to achieve a sufficiently good result on the project without worrying about time-series issues, it is better to remove similar objects to improve the performace of SVM classifier.\n",
    "\n",
    "\n",
    "\n",
    "![car not-car sample][image2]\n"
   ]
  },
  {
   "cell_type": "code",
   "execution_count": null,
   "metadata": {
    "collapsed": true
   },
   "outputs": [],
   "source": []
  },
  {
   "cell_type": "code",
   "execution_count": null,
   "metadata": {
    "collapsed": true
   },
   "outputs": [],
   "source": []
  }
 ],
 "metadata": {
  "anaconda-cloud": {},
  "kernelspec": {
   "display_name": "Python 3",
   "language": "python",
   "name": "python3"
  },
  "language_info": {
   "codemirror_mode": {
    "name": "ipython",
    "version": 3
   },
   "file_extension": ".py",
   "mimetype": "text/x-python",
   "name": "python",
   "nbconvert_exporter": "python",
   "pygments_lexer": "ipython3",
   "version": "3.5.2"
  },
  "widgets": {
   "state": {},
   "version": "1.1.2"
  }
 },
 "nbformat": 4,
 "nbformat_minor": 1
}
