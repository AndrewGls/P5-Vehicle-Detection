{
 "cells": [
  {
   "cell_type": "markdown",
   "metadata": {},
   "source": [
    "Prepare Data for Classifier\n",
    "===\n"
   ]
  },
  {
   "cell_type": "code",
   "execution_count": 1,
   "metadata": {
    "collapsed": false
   },
   "outputs": [],
   "source": [
    "import matplotlib.image as mpimg\n",
    "import matplotlib.pyplot as plt\n",
    "import numpy as np\n",
    "import cv2\n",
    "import glob\n",
    "import time\n",
    "import pickle\n",
    "from sklearn.svm import LinearSVC\n",
    "from sklearn.preprocessing import StandardScaler\n",
    "from skimage.feature import hog\n",
    "from sklearn.model_selection import train_test_split"
   ]
  },
  {
   "cell_type": "markdown",
   "metadata": {},
   "source": [
    "### Load data set with two classes: vehicles and non-vehicles"
   ]
  },
  {
   "cell_type": "code",
   "execution_count": 2,
   "metadata": {
    "collapsed": false
   },
   "outputs": [],
   "source": [
    "# Load data from different sets\n",
    "cars = glob.glob('./vehicles/GTI_Far/*.png')\n",
    "cars += glob.glob('./vehicles/GTI_MiddleClose/*.png')\n",
    "cars += glob.glob('./vehicles/GTI_Left/*.png')\n",
    "cars += glob.glob('./vehicles/GTI_Right/*.png')\n",
    "cars += glob.glob('./vehicles/KITTI_extracted/*.png')\n",
    "notcars = glob.glob('./non-vehicles/Extras/*.png')\n",
    "notcars += glob.glob('./non-vehicles/GTI/*.png')"
   ]
  },
  {
   "cell_type": "markdown",
   "metadata": {},
   "source": [
    "### Two classes are quite balanced"
   ]
  },
  {
   "cell_type": "code",
   "execution_count": 3,
   "metadata": {
    "collapsed": false
   },
   "outputs": [
    {
     "name": "stdout",
     "output_type": "stream",
     "text": [
      "Number of samples in cars set:  8792\n",
      "Number of samples in notcars set:  8968\n"
     ]
    }
   ],
   "source": [
    "print('Number of samples in cars set: ', len(cars))\n",
    "print('Number of samples in notcars set: ', len(notcars))"
   ]
  },
  {
   "cell_type": "markdown",
   "metadata": {},
   "source": [
    "### Split data set to 70% train, 20% validation and 10% test sets"
   ]
  },
  {
   "cell_type": "code",
   "execution_count": 4,
   "metadata": {
    "collapsed": false
   },
   "outputs": [
    {
     "name": "stdout",
     "output_type": "stream",
     "text": [
      "Number of samples in cars training set:  6154\n",
      "Number of samples in cars validation set:  1758\n",
      "Number of samples in cars test set:  880\n",
      "Number of samples in notcars training set:  6277\n",
      "Number of samples in notcars validation set:  1794\n",
      "Number of samples in notcars test set:  897\n"
     ]
    }
   ],
   "source": [
    "# NOT USED!!!!\n",
    "# Split input data list to train, validation and test sets.\n",
    "# Returns: train set, validation set, test set.\n",
    "def split_data_set(data, frac_train=0.7, frac_val=0.2, frac_test=0.1):\n",
    "    n_train = np.int(frac_train * len(data))\n",
    "    n_val = np.int((frac_train + frac_val) * len(data))\n",
    "    data_train = data[:n_train]\n",
    "    data_val = data[n_train:n_val]\n",
    "    data_test = data[n_val:]\n",
    "    return data_train, data_val, data_test\n",
    "    \n",
    "cars_train, cars_val, cars_test = split_data_set(cars)\n",
    "notcars_train, notcars_val, notcars_test = split_data_set(notcars)\n",
    "\n",
    "print('Number of samples in cars training set: ', len(cars_train))\n",
    "print('Number of samples in cars validation set: ', len(cars_val))\n",
    "print('Number of samples in cars test set: ', len(cars_test))\n",
    "assert((len(cars_train) + len(cars_val) + len(cars_test)) == len(cars))\n",
    "\n",
    "print('Number of samples in notcars training set: ', len(notcars_train))\n",
    "print('Number of samples in notcars validation set: ', len(notcars_val))\n",
    "print('Number of samples in notcars test set: ', len(notcars_test))\n",
    "assert((len(notcars_train) + len(notcars_val) + len(notcars_test)) == len(notcars))"
   ]
  },
  {
   "cell_type": "markdown",
   "metadata": {},
   "source": [
    "### Save cars and notcars sets to pickle file"
   ]
  },
  {
   "cell_type": "code",
   "execution_count": 5,
   "metadata": {
    "collapsed": false
   },
   "outputs": [
    {
     "name": "stdout",
     "output_type": "stream",
     "text": [
      "Saving data to pickle file...\n",
      "Data cached in pickle file.\n"
     ]
    }
   ],
   "source": [
    "data_file = 'data.p'\n",
    "print('Saving data to pickle file...')\n",
    "try:\n",
    "    with open(data_file, 'wb') as pfile:\n",
    "        pickle.dump(\n",
    "            {\n",
    "                'cars': cars,\n",
    "                'notcars': notcars,\n",
    "            },\n",
    "            pfile, pickle.HIGHEST_PROTOCOL)\n",
    "except Exception as e:\n",
    "    print('Unable to save data to', pickle_file, ':', e)\n",
    "    raise\n",
    "\n",
    "print('Data cached in pickle file.')"
   ]
  },
  {
   "cell_type": "markdown",
   "metadata": {},
   "source": [
    "### Vehicle and Non-Vehicle examples"
   ]
  },
  {
   "cell_type": "code",
   "execution_count": 6,
   "metadata": {
    "collapsed": false
   },
   "outputs": [
    {
     "name": "stdout",
     "output_type": "stream",
     "text": [
      "Number of samples in cars set:  8792\n",
      "Number of samples in notcars set:  8968\n"
     ]
    }
   ],
   "source": [
    "# Load data from pickle file data.p\n",
    "data_file = 'data.p'\n",
    "with open(data_file, mode='rb') as f:\n",
    "    data = pickle.load(f)\n",
    "cars = data['cars']\n",
    "notcars = data['notcars']\n",
    "print('Number of samples in cars set: ', len(cars))\n",
    "print('Number of samples in notcars set: ', len(notcars))"
   ]
  },
  {
   "cell_type": "code",
   "execution_count": 7,
   "metadata": {
    "collapsed": false
   },
   "outputs": [
    {
     "name": "stdout",
     "output_type": "stream",
     "text": [
      "a car:  ./vehicles/GTI_Far\\image0151.png\n",
      "not a car : ./non-vehicles/Extras\\extra1007.png\n"
     ]
    }
   ],
   "source": [
    "# Read in car / not-car images\n",
    "car_ind = 100\n",
    "notcar_ind = 10\n",
    "car_image = plt.imread(cars[car_ind])\n",
    "notcar_image = plt.imread(notcars[notcar_ind])\n",
    "print('a car: ', cars[car_ind])\n",
    "print('not a car :', notcars[notcar_ind])"
   ]
  },
  {
   "cell_type": "code",
   "execution_count": 8,
   "metadata": {
    "collapsed": false
   },
   "outputs": [
    {
     "data": {
      "image/png": "[encoded data removed]",
      "text/plain": [
       "<matplotlib.figure.Figure at 0x275b8042ac8>"
      ]
     },
     "metadata": {},
     "output_type": "display_data"
    }
   ],
   "source": [
    "# Plot the examples\n",
    "font_size=30\n",
    "f, (ax1, ax2) = plt.subplots(1, 2, figsize=(20,10))\n",
    "ax1.set_title('Example Car Image', fontsize=font_size)\n",
    "ax1.imshow(car_image)\n",
    "ax2.imshow(notcar_image)\n",
    "ax2.set_title('Example Not-car Image', fontsize=font_size)\n",
    "plt.show()"
   ]
  },
  {
   "cell_type": "code",
   "execution_count": null,
   "metadata": {
    "collapsed": true
   },
   "outputs": [],
   "source": []
  }
 ],
 "metadata": {
  "anaconda-cloud": {},
  "kernelspec": {
   "display_name": "Python 3",
   "language": "python",
   "name": "python3"
  },
  "language_info": {
   "codemirror_mode": {
    "name": "ipython",
    "version": 3
   },
   "file_extension": ".py",
   "mimetype": "text/x-python",
   "name": "python",
   "nbconvert_exporter": "python",
   "pygments_lexer": "ipython3",
   "version": "3.5.2"
  },
  "widgets": {
   "state": {},
   "version": "1.1.2"
  }
 },
 "nbformat": 4,
 "nbformat_minor": 1
}
